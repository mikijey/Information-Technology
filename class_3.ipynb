{
 "cells": [
  {
   "cell_type": "markdown",
   "metadata": {},
   "source": [
    "Example slide"
   ]
  },
  {
   "cell_type": "code",
   "execution_count": 14,
   "metadata": {},
   "outputs": [
    {
     "name": "stdout",
     "output_type": "stream",
     "text": [
      "--------Hello--------\n",
      "Hhms\n",
      "Bhbj\n",
      "Jbjkb\n",
      "Njnjn\n",
      "Nknk\n",
      "------goodbye------\n"
     ]
    }
   ],
   "source": [
    "print(\"--------Hello--------\")\n",
    "while True:\n",
    "    a = input(\"String to capitalize [type q to quit]:\")\n",
    "    if a == \"q\":\n",
    "        print(\"------goodbye------\")\n",
    "        break\n",
    "    print(a.capitalize())"
   ]
  },
  {
   "cell_type": "markdown",
   "metadata": {},
   "source": [
    "Exercício 1 - Ask the user for a full number write the first odd numbers equal to that number"
   ]
  },
  {
   "cell_type": "code",
   "execution_count": 20,
   "metadata": {},
   "outputs": [
    {
     "name": "stdout",
     "output_type": "stream",
     "text": [
      "1\n",
      "3\n",
      "5\n",
      "7\n",
      "9\n",
      "11\n"
     ]
    }
   ],
   "source": [
    "n = int(input(\"number:\"))\n",
    "i=1\n",
    "odds=1\n",
    "while i<=n:\n",
    "    print(odds)\n",
    "    odds = odds + 2\n",
    "    i = i + 1"
   ]
  },
  {
   "cell_type": "code",
   "execution_count": 21,
   "metadata": {},
   "outputs": [
    {
     "name": "stdout",
     "output_type": "stream",
     "text": [
      "1\n",
      "3\n",
      "5\n",
      "7\n",
      "9\n",
      "11\n",
      "13\n",
      "15\n",
      "17\n"
     ]
    }
   ],
   "source": [
    "nr = int(input(\"number:\"))\n",
    "for i in range(1,2*nr,2):\n",
    "    print(i)"
   ]
  },
  {
   "cell_type": "markdown",
   "metadata": {},
   "source": [
    "Exercício 2 - Ask the user for a full number, sum the digits of that number"
   ]
  },
  {
   "cell_type": "code",
   "execution_count": 23,
   "metadata": {},
   "outputs": [
    {
     "name": "stdout",
     "output_type": "stream",
     "text": [
      "the sum of number 623 is 11\n"
     ]
    }
   ],
   "source": [
    "d =int(input(\"number:\"))\n",
    "sumdigits = 0\n",
    "number = d\n",
    "while d>0:\n",
    "    sumdigits = sumdigits + d % 10\n",
    "    d = d//10\n",
    "print(\"the sum of number\",number,\"is\",sumdigits)\n",
    "\n"
   ]
  },
  {
   "cell_type": "markdown",
   "metadata": {},
   "source": [
    "Exercício 3 - Ask the user for a full number, calculate the factorial"
   ]
  },
  {
   "cell_type": "code",
   "execution_count": 34,
   "metadata": {},
   "outputs": [
    {
     "name": "stdout",
     "output_type": "stream",
     "text": [
      "factorial of 8 is 40320\n"
     ]
    }
   ],
   "source": [
    "e = int(input(\"number:\"))\n",
    "factorial = 1\n",
    "for i in range(1,e+1):\n",
    "    factorial *= i\n",
    "print(\"factorial of\",e,\"is\",factorial)\n"
   ]
  },
  {
   "cell_type": "code",
   "execution_count": 33,
   "metadata": {},
   "outputs": [
    {
     "name": "stdout",
     "output_type": "stream",
     "text": [
      "factorial of 5 is 120\n"
     ]
    }
   ],
   "source": [
    "n = int(input(\"number:\"))\n",
    "i=1\n",
    "n_fat=1\n",
    "while i<=n:\n",
    "    n_fat=n_fat*i\n",
    "    i=i+1\n",
    "print(\"factorial of\",n,\"is\",n_fat)"
   ]
  }
 ],
 "metadata": {
  "kernelspec": {
   "display_name": "Python 3",
   "language": "python",
   "name": "python3"
  },
  "language_info": {
   "codemirror_mode": {
    "name": "ipython",
    "version": 3
   },
   "file_extension": ".py",
   "mimetype": "text/x-python",
   "name": "python",
   "nbconvert_exporter": "python",
   "pygments_lexer": "ipython3",
   "version": "3.12.6"
  }
 },
 "nbformat": 4,
 "nbformat_minor": 2
}
