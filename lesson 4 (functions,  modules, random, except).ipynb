{
 "cells": [
  {
   "cell_type": "code",
   "execution_count": 5,
   "metadata": {},
   "outputs": [
    {
     "data": {
      "text/plain": [
       "3628800"
      ]
     },
     "execution_count": 5,
     "metadata": {},
     "output_type": "execute_result"
    }
   ],
   "source": [
    "def fact(n):\n",
    "    if n == 1:\n",
    "        return n \n",
    "    else:\n",
    "        return n * fact(n-1)\n",
    "a = int(input(\"Number:\"))\n",
    "fact(a)"
   ]
  },
  {
   "cell_type": "code",
   "execution_count": 3,
   "metadata": {},
   "outputs": [
    {
     "data": {
      "text/plain": [
       "2"
      ]
     },
     "execution_count": 3,
     "metadata": {},
     "output_type": "execute_result"
    }
   ],
   "source": [
    "def fibonacci(n):\n",
    "    if n == 1:\n",
    "        return 0\n",
    "    elif n == 2:\n",
    "        return 1\n",
    "    else:\n",
    "        return fibonacci(n-1) + fibonacci(n-2)\n",
    "    \n",
    "fibonacci(4)"
   ]
  },
  {
   "cell_type": "code",
   "execution_count": null,
   "metadata": {},
   "outputs": [
    {
     "data": {
      "text/plain": [
       "12"
      ]
     },
     "execution_count": 2,
     "metadata": {},
     "output_type": "execute_result"
    }
   ],
   "source": [
    "#write a function that takes as arguments 2  numbers and returns the biggest (mine)\n",
    "def fact(a,b):\n",
    "    if a > b:\n",
    "        return a\n",
    "    else:\n",
    "        return b\n",
    "fact(12,12)"
   ]
  },
  {
   "cell_type": "code",
   "execution_count": 3,
   "metadata": {},
   "outputs": [
    {
     "data": {
      "text/plain": [
       "3"
      ]
     },
     "execution_count": 3,
     "metadata": {},
     "output_type": "execute_result"
    }
   ],
   "source": [
    "#write a function that takes as arguments 2  numbers and returns the biggest\n",
    "def biggest(x, y):\n",
    "    if x > y:\n",
    "        max = x\n",
    "    else:\n",
    "        max = y\n",
    "    return(max)\n",
    "biggest(1,3)"
   ]
  },
  {
   "cell_type": "code",
   "execution_count": 10,
   "metadata": {},
   "outputs": [
    {
     "data": {
      "text/plain": [
       "True"
      ]
     },
     "execution_count": 10,
     "metadata": {},
     "output_type": "execute_result"
    }
   ],
   "source": [
    "#Write a fucntion is a vowel that takes as argument a letter and return true if it's a vowel or false otherwise \n",
    "def s(x):\n",
    "    vowels =[\"a\",\"e\",\"i\",\"o\",\"u\"]\n",
    "    for letter in vowels: \n",
    "        if letter == x:\n",
    "            return True\n",
    "    return False\n",
    "b = \"a\" \n",
    "s(b)"
   ]
  },
  {
   "cell_type": "code",
   "execution_count": null,
   "metadata": {},
   "outputs": [
    {
     "data": {
      "text/plain": [
       "False"
      ]
     },
     "execution_count": 10,
     "metadata": {},
     "output_type": "execute_result"
    }
   ],
   "source": [
    "#Write a fucntion isvowel that takes as argument a letter and return true if it's a vowel or false otherwise \n",
    "def isvowel(x):\n",
    "    vowel = bool(False)\n",
    "    if x == \"a\" or x== \"e\" or x == \"i\" or x == \"o\" or x == \"u\":\n",
    "        vowel = bool(True)\n",
    "    if x == \"A\" or x == \"E\" or x == \"I\" or x == \"O\" or x == \"U\":\n",
    "        vowel = bool(True)\n",
    "    return vowel\n",
    "isvowel(\"b\")"
   ]
  },
  {
   "cell_type": "code",
   "execution_count": null,
   "metadata": {},
   "outputs": [],
   "source": [
    "#Write a function is prime that takes a full  number and returns true it it's prime, false otherwise\n",
    "def isprime(x):\n",
    "    if x == x%1 == 0 and x%X == 0 \n"
   ]
  },
  {
   "cell_type": "code",
   "execution_count": 11,
   "metadata": {},
   "outputs": [
    {
     "data": {
      "text/plain": [
       "False"
      ]
     },
     "execution_count": 11,
     "metadata": {},
     "output_type": "execute_result"
    }
   ],
   "source": [
    "def isPrime(n):\n",
    "    if n>1:\n",
    "        num_divisors = 0\n",
    "        for divisor in range(1, n):\n",
    "            if n % divisor == 0:\n",
    "                num_divisors = num_divisors + 1\n",
    "                if num_divisors  > 1:\n",
    "                    break\n",
    "        if num_divisors  > 1:\n",
    "            ePrimo = False\n",
    "        else: \n",
    "            ePrimo = True\n",
    "    else:\n",
    "        ePrimo = False\n",
    "    return(ePrimo)\n",
    "isPrime(10)"
   ]
  },
  {
   "cell_type": "code",
   "execution_count": 14,
   "metadata": {},
   "outputs": [
    {
     "data": {
      "text/plain": [
       "13"
      ]
     },
     "execution_count": 14,
     "metadata": {},
     "output_type": "execute_result"
    }
   ],
   "source": [
    "#Write a function that takes as argument a number and returns the biggest prime below or equal (you can use the function isprime)\n",
    "def Biggestprime(n):\n",
    "    cont = 1\n",
    "    Maxprime = 0\n",
    "\n",
    "    while cont <= n:\n",
    "        if isPrime(cont) == True:\n",
    "            Maxprime = cont\n",
    "        cont = cont +1\n",
    "\n",
    "    return(Maxprime)\n",
    "Biggestprime(13)\n"
   ]
  },
  {
   "cell_type": "code",
   "execution_count": 13,
   "metadata": {},
   "outputs": [
    {
     "name": "stdout",
     "output_type": "stream",
     "text": [
      "32\n"
     ]
    }
   ],
   "source": [
    "import random as r\n",
    "myList = [1, 5, 7, 23, 65, 32, 65, 49]\n",
    "print(r.choice(myList))"
   ]
  },
  {
   "cell_type": "code",
   "execution_count": 21,
   "metadata": {},
   "outputs": [
    {
     "name": "stdout",
     "output_type": "stream",
     "text": [
      "271\n"
     ]
    }
   ],
   "source": [
    "print(r.randint(100, 1000))"
   ]
  },
  {
   "cell_type": "code",
   "execution_count": null,
   "metadata": {},
   "outputs": [
    {
     "name": "stdout",
     "output_type": "stream",
     "text": [
      "177\n"
     ]
    }
   ],
   "source": [
    "print(r.randint(100, 1000))"
   ]
  },
  {
   "cell_type": "code",
   "execution_count": 26,
   "metadata": {},
   "outputs": [],
   "source": [
    "short_list = [\"Monday\", \"Tuesday\", \"Wednesday\", \"Thursday\", \"Friday\", \"Saturday\", \"Sunday\"]\n",
    "while True:\n",
    "    value = input(\"position(q to quit)?\")\n",
    "    if value == \"q\":\n",
    "        break\n",
    "    try:\n",
    "        position = int(value)\n",
    "        print(short_list[position-1])\n",
    "    except IndexError as err:\n",
    "        print(\"Bad index:\", position)\n",
    "    except Exception as other:\n",
    "        print(\"Something else broke:\", other)\n",
    "    "
   ]
  },
  {
   "cell_type": "code",
   "execution_count": null,
   "metadata": {},
   "outputs": [],
   "source": []
  }
 ],
 "metadata": {
  "kernelspec": {
   "display_name": "Python 3",
   "language": "python",
   "name": "python3"
  },
  "language_info": {
   "codemirror_mode": {
    "name": "ipython",
    "version": 3
   },
   "file_extension": ".py",
   "mimetype": "text/x-python",
   "name": "python",
   "nbconvert_exporter": "python",
   "pygments_lexer": "ipython3",
   "version": "3.12.6"
  }
 },
 "nbformat": 4,
 "nbformat_minor": 2
}
