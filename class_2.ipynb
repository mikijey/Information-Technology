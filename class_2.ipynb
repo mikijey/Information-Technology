{
 "cells": [
  {
   "cell_type": "code",
   "execution_count": 1,
   "metadata": {},
   "outputs": [
    {
     "data": {
      "text/plain": [
       "2.5"
      ]
     },
     "execution_count": 1,
     "metadata": {},
     "output_type": "execute_result"
    }
   ],
   "source": [
    "5/2"
   ]
  },
  {
   "cell_type": "markdown",
   "metadata": {},
   "source": [
    "Exercício 1 - Ask the user for a number, say positive, negative or zero"
   ]
  },
  {
   "cell_type": "code",
   "execution_count": 12,
   "metadata": {},
   "outputs": [
    {
     "name": "stdout",
     "output_type": "stream",
     "text": [
      "Positive\n"
     ]
    }
   ],
   "source": [
    "A = int(input(\"Number:\"))\n",
    "if A == 0:\n",
    "    print(\"Zero\")\n",
    "elif A>0:\n",
    "    print(\"Positive\")\n",
    "else:\n",
    "    print(\"Negative\")"
   ]
  },
  {
   "cell_type": "markdown",
   "metadata": {},
   "source": [
    "Exercício 2 -Ask the user for a full number, say divisable by 3, by 5, both, none"
   ]
  },
  {
   "cell_type": "code",
   "execution_count": 16,
   "metadata": {},
   "outputs": [
    {
     "name": "stdout",
     "output_type": "stream",
     "text": [
      "Divisible by both\n"
     ]
    }
   ],
   "source": [
    "A = int(input(\"Number:\"))\n",
    "if A%3 == 0 and A%5== 0:\n",
    "    print(\"Divisible by both\")\n",
    "elif A%5 ==0:\n",
    "    print(\"Divisible by 5\")\n",
    "elif A%3 == 0:\n",
    "    print(\"Divisible by 3\")\n",
    "else:\n",
    "    print(\"None\")"
   ]
  },
  {
   "cell_type": "markdown",
   "metadata": {},
   "source": [
    "Exercício 3 - Ask the user for 3 full numbers say ascending order or not"
   ]
  },
  {
   "cell_type": "code",
   "execution_count": 21,
   "metadata": {},
   "outputs": [
    {
     "name": "stdout",
     "output_type": "stream",
     "text": [
      "Descending order\n"
     ]
    }
   ],
   "source": [
    "A = int(input(\"1st number:\"))\n",
    "B = int(input(\"2nd number:\"))\n",
    "C = int(input(\"3rd number:\"))\n",
    "if A<B<C:\n",
    "    print(\"Ascending order\")\n",
    "else:\n",
    "    print(\"Descending order\")"
   ]
  },
  {
   "cell_type": "markdown",
   "metadata": {},
   "source": [
    "Exercício 4 - Ask the user for 2 numbers, say what is the biggest or equal"
   ]
  },
  {
   "cell_type": "code",
   "execution_count": 24,
   "metadata": {},
   "outputs": [
    {
     "name": "stdout",
     "output_type": "stream",
     "text": [
      "A is the biggest\n"
     ]
    }
   ],
   "source": [
    "A = float(input(\"1st number:\"))\n",
    "B = float(input(\"2nd number:\"))\n",
    "if A == B:\n",
    "    print(\"Numbers are equal\")\n",
    "elif A>B:\n",
    "    print(\"A is the biggest\")\n",
    "else:\n",
    "    print(\"B is the biggest\")"
   ]
  },
  {
   "cell_type": "markdown",
   "metadata": {},
   "source": []
  }
 ],
 "metadata": {
  "kernelspec": {
   "display_name": "Python 3",
   "language": "python",
   "name": "python3"
  },
  "language_info": {
   "codemirror_mode": {
    "name": "ipython",
    "version": 3
   },
   "file_extension": ".py",
   "mimetype": "text/x-python",
   "name": "python",
   "nbconvert_exporter": "python",
   "pygments_lexer": "ipython3",
   "version": "3.12.6"
  }
 },
 "nbformat": 4,
 "nbformat_minor": 2
}
