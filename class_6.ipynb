{
 "cells": [
  {
   "cell_type": "markdown",
   "metadata": {},
   "source": [
    "Ask the user for 3 grades\n",
    "Best grade: 50%\n",
    "Medium grade: 30%\n",
    "Worst grade: 20%\n",
    "Calculate the final grade write the final grade to a text file grade.txt"
   ]
  },
  {
   "cell_type": "code",
   "execution_count": 4,
   "metadata": {},
   "outputs": [
    {
     "name": "stdout",
     "output_type": "stream",
     "text": [
      "Final grade is: 13.30\n"
     ]
    }
   ],
   "source": [
    "a = float(input(\"Grade:\"))\n",
    "b = float(input(\"Grade:\"))\n",
    "c = float(input(\"Grade:\"))\n",
    "lt = []\n",
    "lt.append(a)\n",
    "lt.append(b)\n",
    "lt.append(c)\n",
    "best_grade = 0.5\n",
    "medium_grade = 0.3\n",
    "worst_grade = 0.2\n",
    "lt.sort()\n",
    "final_grade = (lt[0]*worst_grade)+(lt[1]*medium_grade)+(lt[2]*best_grade)\n",
    "print(\"Final grade is: %.2f\" % final_grade)\n",
    "\n",
    "with open(\"fg\",\"w\") as file:\n",
    "    file.write(\"Final grade is: %.2f\" % final_grade)"
   ]
  }
 ],
 "metadata": {
  "kernelspec": {
   "display_name": "Python 3",
   "language": "python",
   "name": "python3"
  },
  "language_info": {
   "codemirror_mode": {
    "name": "ipython",
    "version": 3
   },
   "file_extension": ".py",
   "mimetype": "text/x-python",
   "name": "python",
   "nbconvert_exporter": "python",
   "pygments_lexer": "ipython3",
   "version": "3.12.6"
  }
 },
 "nbformat": 4,
 "nbformat_minor": 2
}
